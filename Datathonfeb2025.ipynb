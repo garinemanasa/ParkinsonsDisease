{
 "cells": [
  {
   "cell_type": "code",
   "execution_count": null,
   "id": "879ab85b-3b7e-49b1-97f4-33a1e2f36cd5",
   "metadata": {},
   "outputs": [],
   "source": []
  },
  {
   "cell_type": "code",
   "execution_count": null,
   "id": "35b69163-400e-4b88-b77b-f55b3747ca2f",
   "metadata": {},
   "outputs": [],
   "source": []
  },
  {
   "cell_type": "code",
   "execution_count": 2,
   "id": "f674c5c1-bb1c-4d63-a05e-0217274a6714",
   "metadata": {},
   "outputs": [],
   "source": [
    "import os\n",
    "import json\n",
    "import csv\n",
    "\n",
    "# Define the directories for different datasets\n",
    "dataset_dir = r'C:\\Users\\garin\\OneDrive\\Numpy 2025\\Datathon feb2025\\pads-parkinsons-disease-smartwatch-dataset'\n",
    "movement_dir = os.path.join(dataset_dir, 'pads-parkinsons-disease-smartwatch-dataset\\movement')\n",
    "\n",
    "# Initialize a list to store the extracted data\n",
    "data_list = []\n",
    "\n",
    "# Loop through each file in the folder and extract data\n",
    "for filename in os.listdir(movement_dir):\n",
    "    if filename.endswith('.json'):\n",
    "        file_path = os.path.join(movement_dir, filename)\n",
    "        with open(file_path, 'r') as file:\n",
    "            data = json.load(file)\n",
    "            data_list.append(data)\n",
    "\n",
    "# Write the extracted data to a CSV file\n",
    "csv_file_path = r'C:\\Users\\garin\\OneDrive\\Numpy 2025\\Datathon feb2025\\extracted_data.csv'\n",
    "\n",
    "with open(csv_file_path, 'w', newline='') as csvfile:\n",
    "    writer = csv.writer(csvfile)\n",
    "    \n",
    "    # Write the header (assuming all JSON files have the same structure)\n",
    "    if data_list:\n",
    "        header = data_list[0].keys()\n",
    "        writer.writerow(header)\n",
    "        \n",
    "        # Write the data\n",
    "        for data in data_list:\n",
    "            writer.writerow(data.values())\n"
   ]
  },
  {
   "cell_type": "code",
   "execution_count": null,
   "id": "4e9cbf57-a0c3-47e9-b326-649b42accb2b",
   "metadata": {},
   "outputs": [],
   "source": []
  },
  {
   "cell_type": "code",
   "execution_count": null,
   "id": "259cd429-23e7-4552-9b22-4dd36f4ed275",
   "metadata": {},
   "outputs": [],
   "source": [
    "import os\n",
    "import json\n",
    "import csv\n",
    "\n",
    "# Define the directories for different datasets\n",
    "dataset_dir = r'C:\\Users\\garin\\OneDrive\\Numpy 2025\\Datathon feb2025\\pads-parkinsons-disease-smartwatch-dataset'\n",
    "movement_dir = os.path.join(dataset_dir, 'pads-parkinsons-disease-smartwatch-dataset\\movement-copy')\n",
    "\n",
    "# Initialize a list to store the extracted data\n",
    "data_list = []\n",
    "\n",
    "# Loop through each file in the folder and extract data\n",
    "for filename in os.listdir(movement_dir):\n",
    "    if filename.endswith('.json'):\n",
    "        file_path = os.path.join(movement_dir, filename)\n",
    "        with open(file_path, 'r') as file:\n",
    "            data = json.load(file)\n",
    "            data_list.append(data)\n",
    "\n",
    "# Write the extracted data to a CSV file\n",
    "csv_file_path = r'C:\\Users\\garin\\OneDrive\\Numpy 2025\\Datathon feb2025\\extracted_data.csv'\n",
    "\n",
    "with open(csv_file_path, 'w', newline='') as csvfile:\n",
    "    writer = csv.writer(csvfile)\n",
    "    \n",
    "    # Write the header (assuming all JSON files have the same structure)\n",
    "    if data_list:\n",
    "        header = data_list[0].keys()\n",
    "        writer.writerow(header)\n",
    "        \n",
    "        # Write the data\n",
    "        for data in data_list:\n",
    "            writer.writerow(data.values())\n"
   ]
  },
  {
   "cell_type": "code",
   "execution_count": 6,
   "id": "1048047e-f837-4f49-9e37-ed32ecac463a",
   "metadata": {
    "tags": []
   },
   "outputs": [],
   "source": [
    "import pandas as pd"
   ]
  },
  {
   "cell_type": "code",
   "execution_count": 8,
   "id": "266f991c-b627-4009-8130-ad3781f508f4",
   "metadata": {
    "tags": []
   },
   "outputs": [
    {
     "name": "stdout",
     "output_type": "stream",
     "text": [
      "CSV file saved as questionnaire1.csv\n"
     ]
    }
   ],
   "source": [
    "#Read json files from questionnaire folder and extract data to csv\n",
    "\n",
    "# Folder containing JSON files\n",
    "folder_pathq = r\"C:\\Users\\garin\\OneDrive\\Numpy 2025\\Datathon feb2025\\pads-parkinsons-disease-smartwatch-dataset\\pads-parkinsons-disease-smartwatch-dataset\\questionnaire\"\n",
    "questionnaire1_csv = \"questionnaire1.csv\"\n",
    "# List to store extracted data\n",
    "data_list1 = []\n",
    "# Iterate through all JSON files in the folder\n",
    "for file_name in os.listdir(folder_pathq):\n",
    "    if file_name.endswith(\".json\"):  # Process only JSON files\n",
    "        file_path1 = os.path.join(folder_pathq, file_name)\n",
    "        # Open and read JSON file\n",
    "        with open(file_path1, \"r\", encoding=\"utf-8\") as file:\n",
    "            data = json.load(file)\n",
    "            # Extract metadata\n",
    "            subject_id = data.get(\"subject_id\", \"\")\n",
    "            study_id = data.get(\"study_id\", \"\")\n",
    "            questionnaire_name = data.get(\"questionnaire_name\", \"\")\n",
    "            # Extract each item (question & response)\n",
    "            for item in data.get(\"item\", []):\n",
    "                row = {\n",
    "                    \"subject_id\": subject_id,\n",
    "                    \"study_id\": study_id,\n",
    "                    \"questionnaire_name\": questionnaire_name,\n",
    "                    \"link_id\": item.get(\"link_id\", \"\"),\n",
    "                    \"question_text\": item.get(\"text\", \"\"),\n",
    "                    \"answer\": item.get(\"answer\", \"\")\n",
    "                }\n",
    "                data_list1.append(row)\n",
    "# Convert list to DataFrame\n",
    "df = pd.DataFrame(data_list1)\n",
    "# Save DataFrame to CSV\n",
    "df.to_csv(questionnaire1_csv, index=False, encoding=\"utf-8\")\n",
    "print(f\"CSV file saved as {questionnaire1_csv}\")"
   ]
  },
  {
   "cell_type": "code",
   "execution_count": null,
   "id": "766d3b32-2aa2-4021-a4aa-5c989366a9f1",
   "metadata": {},
   "outputs": [],
   "source": [
    "import os\n",
    "print(os.getcwd())  # Prints the current working directory\n",
    "\n",
    "os.chdir(\"C:/path/to/your/directory\") # Windows (use double backslashes or raw string)# os.chdir(\"/path/to/your/directory\") # macOS/Linux"
   ]
  }
 ],
 "metadata": {
  "kernelspec": {
   "display_name": "Python 3 (ipykernel)",
   "language": "python",
   "name": "python3"
  },
  "language_info": {
   "codemirror_mode": {
    "name": "ipython",
    "version": 3
   },
   "file_extension": ".py",
   "mimetype": "text/x-python",
   "name": "python",
   "nbconvert_exporter": "python",
   "pygments_lexer": "ipython3",
   "version": "3.11.3"
  }
 },
 "nbformat": 4,
 "nbformat_minor": 5
}
