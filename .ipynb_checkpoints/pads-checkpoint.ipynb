{
 "cells": [
  {
   "cell_type": "code",
   "execution_count": 1,
   "id": "4f991ac1-09af-4c13-8502-ffcf748e5ff0",
   "metadata": {
    "tags": []
   },
   "outputs": [
    {
     "name": "stdout",
     "output_type": "stream",
     "text": [
      "C:\\Users\\garin\\Documents\\GitHub\\ParkinsonsDisease\n"
     ]
    }
   ],
   "source": [
    "import os\n",
    "print(os.getcwd())  # Prints the current working directory"
   ]
  },
  {
   "cell_type": "code",
   "execution_count": 4,
   "id": "1daf85b5-7d45-4d2a-a3d3-9fc84a1302a2",
   "metadata": {
    "tags": []
   },
   "outputs": [],
   "source": [
    "import pandas as pd"
   ]
  },
  {
   "cell_type": "code",
   "execution_count": 4,
   "id": "071949f2-b3d5-4580-ab66-c8bcca4cae57",
   "metadata": {
    "tags": []
   },
   "outputs": [
    {
     "ename": "FileNotFoundError",
     "evalue": "[WinError 3] The system cannot find the path specified: 'C:\\\\Users\\\\garin\\\\Documents\\\\GitHub\\\\ParkinsonsDisease\\\\pads-parkinsons-disease\\\\patients'",
     "output_type": "error",
     "traceback": [
      "\u001b[1;31m---------------------------------------------------------------------------\u001b[0m",
      "\u001b[1;31mFileNotFoundError\u001b[0m                         Traceback (most recent call last)",
      "Cell \u001b[1;32mIn[4], line 8\u001b[0m\n\u001b[0;32m      6\u001b[0m data_list \u001b[38;5;241m=\u001b[39m []\n\u001b[0;32m      7\u001b[0m \u001b[38;5;66;03m# Loop through each file in the folder and extract data\u001b[39;00m\n\u001b[1;32m----> 8\u001b[0m \u001b[38;5;28;01mfor\u001b[39;00m filename \u001b[38;5;129;01min\u001b[39;00m os\u001b[38;5;241m.\u001b[39mlistdir(folder_path):\n\u001b[0;32m      9\u001b[0m     \u001b[38;5;28;01mif\u001b[39;00m filename\u001b[38;5;241m.\u001b[39mendswith(\u001b[38;5;124m'\u001b[39m\u001b[38;5;124m.json\u001b[39m\u001b[38;5;124m'\u001b[39m):\n\u001b[0;32m     10\u001b[0m         file_path \u001b[38;5;241m=\u001b[39m os\u001b[38;5;241m.\u001b[39mpath\u001b[38;5;241m.\u001b[39mjoin(folder_path, filename)\n",
      "\u001b[1;31mFileNotFoundError\u001b[0m: [WinError 3] The system cannot find the path specified: 'C:\\\\Users\\\\garin\\\\Documents\\\\GitHub\\\\ParkinsonsDisease\\\\pads-parkinsons-disease\\\\patients'"
     ]
    }
   ],
   "source": [
    "import os\n",
    "import json\n",
    "# Specify the folder containing the JSON files\n",
    "folder_path = r\"C:\\Users\\garin\\Documents\\GitHub\\ParkinsonsDisease\\pads-parkinsons-disease\\patients\"\n",
    "# Initialize a list to store the extracted data\n",
    "data_list = []\n",
    "# Loop through each file in the folder and extract data\n",
    "for filename in os.listdir(folder_path):\n",
    "    if filename.endswith('.json'):\n",
    "        file_path = os.path.join(folder_path, filename)\n",
    "        with open(file_path, 'r') as file:\n",
    "            data = json.load(file)\n",
    "            data_list.append(data)\n",
    "# Now, `data_list` contains data from all the JSON files\n",
    "print(data_list)"
   ]
  },
  {
   "cell_type": "code",
   "execution_count": 43,
   "id": "58cf03f5-6859-4b68-b2ea-ae6f20d5f3ff",
   "metadata": {},
   "outputs": [],
   "source": [
    "import csv\n",
    "# Write the extracted data to a CSV file\n",
    "csv_file_path = r'C:\\Users\\subha\\OneDrive\\Desktop\\Datathon\\Feb\\pads-parkinsons-disease\\patients.csv'\n",
    "with open(csv_file_path, 'w', newline='') as csvfile:\n",
    "    writer = csv.writer(csvfile)\n",
    "    # Write the header (assuming all JSON files have the same structure)\n",
    "    header = data_list[0].keys()\n",
    "    writer.writerow(header)\n",
    "    # Write the data\n",
    "    for data in data_list:\n",
    "        writer.writerow(data.values())"
   ]
  },
  {
   "cell_type": "code",
   "execution_count": 45,
   "id": "b5b23cca-737c-4781-91f6-00a3024c6c69",
   "metadata": {},
   "outputs": [
    {
     "name": "stdout",
     "output_type": "stream",
     "text": [
      "CSV file saved as questionnaire.csv\n"
     ]
    }
   ],
   "source": [
    "# Folder containing JSON files\n",
    "folder_path1 = r\"C:\\Users\\subha\\OneDrive\\Desktop\\Datathon\\Feb\\pads-parkinsons-disease\\questionnaire\"\n",
    "questionnaire_csv = \"questionnaire.csv\"\n",
    "\n",
    "# List to store extracted data\n",
    "data_list1 = []\n",
    "\n",
    "# Iterate through all JSON files in the folder\n",
    "for file_name in os.listdir(folder_path1):\n",
    "    if file_name.endswith(\".json\"):  # Process only JSON files\n",
    "        file_path1 = os.path.join(folder_path1, file_name)\n",
    "\n",
    "        # Open and read JSON file\n",
    "        with open(file_path1, \"r\", encoding=\"utf-8\") as file:\n",
    "            data1 = json.load(file)\n",
    "\n",
    "            # Extract metadata\n",
    "            subject_id = data1.get(\"subject_id\", \"\")\n",
    "            study_id = data1.get(\"study_id\", \"\")\n",
    "            questionnaire_name = data1.get(\"questionnaire_name\", \"\")\n",
    "\n",
    "            # Extract each item (question & response)\n",
    "            for item in data1.get(\"item\", []):\n",
    "                row = {\n",
    "                    \"subject_id\": subject_id,\n",
    "                    \"study_id\": study_id,\n",
    "                    \"questionnaire_name\": questionnaire_name,\n",
    "                    \"link_id\": item.get(\"link_id\", \"\"),\n",
    "                    \"question_text\": item.get(\"text\", \"\"),\n",
    "                    \"answer\": item.get(\"answer\", \"\")\n",
    "                }\n",
    "                data_list1.append(row)\n",
    "\n",
    "# Convert list to DataFrame\n",
    "df = pd.DataFrame(data_list1)\n",
    "\n",
    "# Save DataFrame to CSV\n",
    "df.to_csv(questionnaire_csv, index=False, encoding=\"utf-8\")\n",
    "\n",
    "print(f\"CSV file saved as {questionnaire_csv}\")"
   ]
  },
  {
   "cell_type": "code",
   "execution_count": 5,
   "id": "8a776812-7799-4b38-b4af-07f41d4d3e53",
   "metadata": {
    "tags": []
   },
   "outputs": [],
   "source": [
    "import os\n",
    "import csv\n",
    "import json"
   ]
  },
  {
   "cell_type": "code",
   "execution_count": 3,
   "id": "c927bd66-5044-4e50-b069-f47d5c2f67d4",
   "metadata": {},
   "outputs": [
    {
     "ename": "FileNotFoundError",
     "evalue": "[WinError 3] The system cannot find the path specified: 'C:/Users/garin/Documents/GitHub/ParkinsonsDisease/pads-parkinsons-disease/movement'",
     "output_type": "error",
     "traceback": [
      "\u001b[1;31m---------------------------------------------------------------------------\u001b[0m",
      "\u001b[1;31mFileNotFoundError\u001b[0m                         Traceback (most recent call last)",
      "Cell \u001b[1;32mIn[3], line 10\u001b[0m\n\u001b[0;32m      7\u001b[0m all_data \u001b[38;5;241m=\u001b[39m []\n\u001b[0;32m      9\u001b[0m \u001b[38;5;66;03m# Loop through each JSON file in the folder\u001b[39;00m\n\u001b[1;32m---> 10\u001b[0m \u001b[38;5;28;01mfor\u001b[39;00m json_file \u001b[38;5;129;01min\u001b[39;00m os\u001b[38;5;241m.\u001b[39mlistdir(json_folder):\n\u001b[0;32m     11\u001b[0m     \u001b[38;5;28;01mif\u001b[39;00m json_file\u001b[38;5;241m.\u001b[39mendswith(\u001b[38;5;124m\"\u001b[39m\u001b[38;5;124m.json\u001b[39m\u001b[38;5;124m\"\u001b[39m):\n\u001b[0;32m     12\u001b[0m         json_path \u001b[38;5;241m=\u001b[39m os\u001b[38;5;241m.\u001b[39mpath\u001b[38;5;241m.\u001b[39mjoin(json_folder, json_file)\n",
      "\u001b[1;31mFileNotFoundError\u001b[0m: [WinError 3] The system cannot find the path specified: 'C:/Users/garin/Documents/GitHub/ParkinsonsDisease/pads-parkinsons-disease/movement'"
     ]
    }
   ],
   "source": [
    "# Define paths\n",
    "json_folder = r\"C:/Users/garin/Documents/GitHub/ParkinsonsDisease/pads-parkinsons-disease/movement\"\n",
    "txt_folder = r\"C:/Users/garin/Documents/GitHub/ParkinsonsDisease/pads-parkinsons-disease\"\n",
    "output_csv = r\"C:/Users/garin/Documents/GitHub/ParkinsonsDisease/pads-parkinsons-disease/movement.csv\"\n",
    "\n",
    "# List to store all data\n",
    "all_data = []\n",
    "\n",
    "# Loop through each JSON file in the folder\n",
    "for json_file in os.listdir(json_folder):\n",
    "    if json_file.endswith(\".json\"):\n",
    "        json_path = os.path.join(json_folder, json_file)\n",
    "        \n",
    "        # Load JSON data\n",
    "        with open(json_path, \"r\", encoding=\"utf-8\") as f:\n",
    "            observation = json.load(f)\n",
    "        \n",
    "        subject_id = observation.get(\"subject_id\", \"Unknown\")\n",
    "        study_id = observation.get(\"study_id\", \"Unknown\")\n",
    "        device_id = observation.get(\"device_id\", \"Unknown\")\n",
    "\n",
    "        # Process each session\n",
    "        for session in observation[\"session\"]:\n",
    "            record_name = session[\"record_name\"]\n",
    "            \n",
    "            for record in session[\"records\"]:\n",
    "                device_location = record[\"device_location\"]\n",
    "                channels = record[\"channels\"]\n",
    "                file_name = record[\"file_name\"]\n",
    "\n",
    "                # Build full path to .txt file\n",
    "                txt_path = os.path.join(txt_folder, file_name)\n",
    "                \n",
    "                if os.path.exists(txt_path):  # Check if file exists\n",
    "                    # Read .txt file into DataFrame\n",
    "                    df = pd.read_csv(txt_path, sep=\",\", names=channels)\n",
    "\n",
    "                    # Add metadata columns\n",
    "                    df[\"subject_id\"] = subject_id\n",
    "                    df[\"study_id\"] = study_id\n",
    "                    df[\"device_id\"] = device_id\n",
    "                    df[\"record_name\"] = record_name\n",
    "                    df[\"device_location\"] = device_location\n",
    "\n",
    "                    # Append to list\n",
    "                    all_data.append(df)\n",
    "                else:\n",
    "                    print(f\"Warning: {txt_path} not found.\")\n",
    "\n",
    "# Combine all DataFrames\n",
    "final_df = pd.concat(all_data, ignore_index=True)\n",
    "\n",
    "# Save to CSV\n",
    "final_df.to_csv(output_csv, index=False, encoding=\"utf-8\")\n",
    "print(f\"Data saved to {output_csv}\")"
   ]
  },
  {
   "cell_type": "code",
   "execution_count": null,
   "id": "fc82ea46-3361-4211-99f1-55b75af005a9",
   "metadata": {},
   "outputs": [],
   "source": []
  }
 ],
 "metadata": {
  "kernelspec": {
   "display_name": "Python 3 (ipykernel)",
   "language": "python",
   "name": "python3"
  },
  "language_info": {
   "codemirror_mode": {
    "name": "ipython",
    "version": 3
   },
   "file_extension": ".py",
   "mimetype": "text/x-python",
   "name": "python",
   "nbconvert_exporter": "python",
   "pygments_lexer": "ipython3",
   "version": "3.11.3"
  }
 },
 "nbformat": 4,
 "nbformat_minor": 5
}
